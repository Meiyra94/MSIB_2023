{
 "cells": [
  {
   "cell_type": "markdown",
   "metadata": {},
   "source": [
    "## **Assignment 1**\n",
    "###### Write a program to change vocal word (\"a,i,u,e,o\") into \"a\" .Example:\n",
    "\n",
    "#### **Input:**\n",
    "\n",
    "###### lirik = \"balonku ada lima\"\n",
    "\n",
    "#### **Output:**\n",
    "\n",
    "###### \"balanka ada lama\"\n",
    "\n"
   ]
  },
  {
   "cell_type": "code",
   "execution_count": null,
   "metadata": {},
   "outputs": [],
   "source": [
    "#Cara I\n",
    "#menggunakan fungsi replace untuk mengganti elemen dengan syntax input.replace(old, new)\n",
    "\n",
    "input = \"yuk bisa yuk\"\n",
    "\n",
    "output = input.replace(\"i\", \"a\").replace(\"u\", \"a\").replace(\"e\", \"a\").replace(\"o\", \"a\") #mengganti setiap huruf i,u,e,o dengan huruf a\n",
    "print(output)"
   ]
  },
  {
   "cell_type": "code",
   "execution_count": null,
   "metadata": {},
   "outputs": [],
   "source": [
    "#Cara II\n",
    "#menggunakan for loop untuk membuat string baru yang mengganti huruf i,u,e,o menjadi huruf a\n",
    "\n",
    "lirik = \"kami kelompok dua belas studi independen dibimbing\"\n",
    "\n",
    "new_lirik = \"\" #membuat string kosong\n",
    "\n",
    "for char in lirik: #untuk setiap elemen di lirik\n",
    "  if char==\"i\" or char==\"u\" or char==\"e\" or char==\"o\": #jika elemen tersebut merupakan i,u,e,o, maka tambahkan huruf a ke new_lirik\n",
    "    new_lirik += \"a\"\n",
    "  else:    #jika bukan i,u,e,o, tambahkan elemen tersebut ke new_lirik (tanpa perubahan)\n",
    "    new_lirik += char\n",
    "\n",
    "print(new_lirik)"
   ]
  },
  {
   "cell_type": "markdown",
   "metadata": {},
   "source": [
    "## **Assignment 2**\n",
    "###### Write a program to check student attendance. A student will not be allowed to sit an exam if his/her attendance is less than 75%. Example:\n",
    "\n",
    "#### **Input:**\n",
    "\n",
    "###### Class_held = 20\n",
    "\n",
    "###### Student = [“Asnawi”, “Haaland”, “Hazard”, “Maudy Ayunan”,  “Marselino”, “Dembele”]\n",
    "\n",
    "###### Class_attended = [18, 19, 10, 20, 17, 13]\n",
    "\n",
    "#### **Output:**\n",
    "\n",
    "###### Kehadiran asnawi lebih dari 75%, dapat mengikuti ujian cunin\n",
    "\n",
    "###### Kehadiran hazard kurang dari 75%, tidak dapat mengikuti ujian cunin\n",
    "\n",
    "###### Kehadiran dembele kurang dari 75%, tidak dapat mengikuti ujian cunin"
   ]
  },
  {
   "cell_type": "code",
   "execution_count": null,
   "metadata": {},
   "outputs": [],
   "source": [
    "#Cara I\n",
    "#menggunakan function (def)\n",
    "\n",
    "def check_attendance(Class_held, Student, Class_attended): #function dengan parameter Class_held,Student, dan Class_attended\n",
    "    batas = 0.75 * Class_held #batas minimal untuk dapat mengikuti ujian adalah 75% (0.75) dari class_held\n",
    "    for i in range(len(Student)): #iterasi sebanyak len/panjang list Student (banyaknya nama Student)\n",
    "        if Class_attended[i] >= batas: #jika jumlah kehadiran siswa ke-i lebih besar atau sama dengan batas minimum kehadiran\n",
    "            print(f\"Kehadiran {Student[i]} lebih dari 75%, dapat mengikuti ujian cunin\") #maka dapat mengikuti ujian cunin\n",
    "        else: #jika jumlah kehadiran siswa ke-i kurang dari dengan batas minimum kehadiran\n",
    "            print(f\"Kehadiran {Student[i]} kurang dari 75%, tidak dapat mengikuti ujian cunin\") #maka tidak dapat mengikuti ujian cunin\n",
    "\n",
    "Class_held = 20\n",
    "Student = [\"Fadhila\", \"Dhiya\", \"Meiyra\", \"Dita\", \"Lisa\"]\n",
    "Class_attended = [18, 19, 10, 20, 17]\n",
    "\n",
    "check_attendance(Class_held, Student, Class_attended) #memanggil fungsi check_attendance"
   ]
  },
  {
   "cell_type": "code",
   "execution_count": null,
   "metadata": {},
   "outputs": [],
   "source": [
    "#Cara II\n",
    "#tanpa menggunakan function (def)\n",
    "\n",
    "Class_held = 20\n",
    "Student = [\"Fadhila\", \"Dhiya\", \"Meiyra\", \"Dita\", \"Lisa\",\"Kak Ardhi\"]\n",
    "Class_attended = [18, 19, 10, 20, 12, 5] #dengan asumsi jumlah kehadiran berurutan sesuai nama di list Student\n",
    "\n",
    "for i in range(len(Student)): #iterasi sebanyak len/panjang list Student (banyaknya nama Student)\n",
    "  if Class_attended[i]/Class_held < 0.75: #jika persen kehadiran kurang dari 75% (0.75) maka siswa tersebut tidak dapat mengikuti ujian cunin\n",
    "    print(f\"Kehadiran {Student[i]} kurang dari 75%, tidak dapat mengikuti ujian cunin\")\n",
    "  else:  #jika persen kehadiran tidak kurang dari 75% (persen kehadiran >= 0.75) maka siswa tersebut dapat mengikuti ujian cunin\n",
    "    print(f\"Kehadiran {Student[i]} lebih dari 75%, dapat mengikuti ujian cunin\")"
   ]
  }
 ],
 "metadata": {
  "language_info": {
   "name": "python"
  },
  "orig_nbformat": 4
 },
 "nbformat": 4,
 "nbformat_minor": 2
}
