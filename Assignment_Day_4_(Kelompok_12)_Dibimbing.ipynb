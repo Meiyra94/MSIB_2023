{
  "cells": [
    {
      "cell_type": "markdown",
      "metadata": {
        "id": "0R7kL1zDrK4i"
      },
      "source": [
        "#**DAY 4 | Python 3 | Hands on Programming in Python**\n",
        "\n",
        "Deskripsi Project\n",
        "\n",
        "Case study OOP with Python\n",
        "____________\n",
        "\n",
        "\n",
        "Buatlah sebuah program untuk menghitung luas n bangun datar yang terdiri dari:\n",
        "1.\tPersegi\n",
        "2.\tPersegi panjang\n",
        "3.\tSegitiga\n",
        "4.\tLingkaran (gunakan 3.14 untuk nilai pi)\n",
        "5.\tTrapesium\n",
        "\n",
        "\n",
        "Permintaan masukan harus disesuaikan dengan bangun datar yang akan dihitung luasnya, e.g. jika persegi, maka program hanya akan meminta satu masukan, i.e. sisi. Setelah didapatkan n luas bangun datar, urutkan luas bangun datar dari terkecil hingga terbesar dan hitung total luas bangun datar tersebut!\n",
        "\n",
        "\n",
        "Buatlah penyelesaian kasus tersebut dalam paradigma pemrograman berorientasi objek!\n",
        "\n",
        "\n",
        "Petunjuk: Anda perlu membuat kelas parent dengan nama BangunDatar. Kelas BangunDatar akan memiliki metode kosong bernama hitung luas().\n"
      ]
    },
    {
      "cell_type": "code",
      "execution_count": null,
      "metadata": {
        "id": "Ix1b0ZFis_4K"
      },
      "outputs": [],
      "source": [
        "from abc import ABC, abstractmethod\n",
        "\n",
        "##Class Parent\n",
        "\n",
        "class BangunDatar:\n",
        "  rekap_luas = [] #list untuk merekap luas yang dihitung di class child\n",
        "\n",
        "  @abstractmethod #method yang digunakan class child sesuai bentuk bangun datar\n",
        "  def hitung_luas(self):\n",
        "    pass"
      ]
    },
    {
      "cell_type": "code",
      "execution_count": null,
      "metadata": {
        "id": "9yJUxZ_WuT3a"
      },
      "outputs": [],
      "source": [
        "##Class Child dengan parent BangunDatar\n",
        "\n",
        "class Persegi(BangunDatar):\n",
        "# Method untuk menghitung luas persegi\n",
        "  def HitungLuas(self):\n",
        "    sisi = float(input(\"=> masukkan sisi: \"))\n",
        "    self.luas = sisi*sisi\n",
        "    print(f'Luas Persegi = {self.luas}')\n",
        "    BangunDatar.rekap_luas.append(self.luas)\n",
        "\n",
        "class PersegiPanjang(BangunDatar):\n",
        "# Method untuk menghitung luas persegi panjang\n",
        "  def HitungLuas(self):\n",
        "    panjang = float(input(\"=> masukkan panjang: \"))\n",
        "    lebar = float(input(\"=> masukkan lebar: \"))\n",
        "    self.luas = panjang*lebar\n",
        "    print(f'Luas Persegi Panjang = {self.luas}')\n",
        "    BangunDatar.rekap_luas.append(self.luas)\n",
        "\n",
        "class Segitiga(BangunDatar):\n",
        "# Method untuk menghitung luas segitiga\n",
        "  def HitungLuas(self):\n",
        "    alas = float(input(\"=> masukkan alas: \"))\n",
        "    tinggi = float(input(\"=> masukkan tinggi: \"))\n",
        "    self.luas = alas*tinggi/2\n",
        "    print(f'Luas Segitiga = {self.luas}')\n",
        "    BangunDatar.rekap_luas.append(self.luas)\n",
        "\n",
        "class Lingkaran(BangunDatar):\n",
        "# Method untuk menghitung luas lingkaran\n",
        "  def HitungLuas(self):\n",
        "    radius = float(input(\"=> masukkan jari-jari: \"))\n",
        "    self.luas = 3.14*radius*radius\n",
        "    print(f'Luas Lingkaran = {self.luas}')\n",
        "    BangunDatar.rekap_luas.append(self.luas)\n",
        "\n",
        "class Trapesium(BangunDatar):\n",
        "# Method untuk menghitung luas trapesium\n",
        "  def HitungLuas(self):\n",
        "    atas = float(input(\"=> masukkan sisi atas: \"))\n",
        "    bawah = float(input(\"=> masukkan sisi bawah: \"))\n",
        "    tinggi = float(input(\"=> masukkan tinggi: \"))\n",
        "    self.luas = (atas+bawah)*tinggi/2\n",
        "    print(f'Luas Trapesium = {self.luas}')\n",
        "    BangunDatar.rekap_luas.append(self.luas)"
      ]
    },
    {
      "cell_type": "code",
      "execution_count": null,
      "metadata": {
        "id": "ULlAOuj-3daW"
      },
      "outputs": [],
      "source": [
        "def sorting(List):\n",
        "  for i in range(len(List)):\n",
        "    for j in range(0, len(List) - i - 1):\n",
        "      if List[j] > List[j + 1]: #klo kiri>kanan maka dituker\n",
        "        temp = List[j]\n",
        "        List[j] = List[j+1] #kiri jadi kanan\n",
        "        List[j+1] = temp #kanan jadi kiri\n",
        "  return List\n",
        "\n",
        "def jumlah(List):\n",
        "  sum = 0\n",
        "  for i in List:\n",
        "    sum = sum + i\n",
        "  return sum"
      ]
    },
    {
      "cell_type": "code",
      "execution_count": null,
      "metadata": {
        "colab": {
          "base_uri": "https://localhost:8080/"
        },
        "id": "kVgM5UzR0LVK",
        "outputId": "2def3cbb-71fb-460a-83fb-4834e1a92265"
      },
      "outputs": [
        {
          "name": "stdout",
          "output_type": "stream",
          "text": [
            "Banyaknya bangun datar:5\n",
            "Pilih Bangun Datar ke-1 (persegi, persegi panjang, segitiga, lingkaran, trapesium): persegi\n",
            "=> masukkan sisi: 6\n",
            "Luas Persegi = 36.0\n",
            "Pilih Bangun Datar ke-2 (persegi, persegi panjang, segitiga, lingkaran, trapesium): persegi panjang\n",
            "=> masukkan panjang: 5\n",
            "=> masukkan lebar: 7\n",
            "Luas Persegi Panjang = 35.0\n",
            "Pilih Bangun Datar ke-3 (persegi, persegi panjang, segitiga, lingkaran, trapesium): jajar genjang\n",
            "!Bangun datar tidak masuk dalam pilihan, pilih ulang!\n",
            "Pilih Bangun Datar ke-3 (persegi, persegi panjang, segitiga, lingkaran, trapesium): segitiga\n",
            "=> masukkan alas: 9\n",
            "=> masukkan tinggi: 3\n",
            "Luas Segitiga = 13.5\n",
            "Pilih Bangun Datar ke-4 (persegi, persegi panjang, segitiga, lingkaran, trapesium): lingkaran\n",
            "=> masukkan jari-jari: 7\n",
            "Luas Lingkaran = 153.86\n",
            "Pilih Bangun Datar ke-5 (persegi, persegi panjang, segitiga, lingkaran, trapesium): trapesium\n",
            "=> masukkan sisi atas: 2\n",
            "=> masukkan sisi bawah: 3\n",
            "=> masukkan tinggi: 4\n",
            "Luas Trapesium = 10.0\n",
            "Rekap luas bangun datar:  [36.0, 35.0, 13.5, 153.86, 10.0]\n",
            "Rekap luas bangun datar setelah sorting:  [10.0, 13.5, 35.0, 36.0, 153.86]\n",
            "Jumlah semua luas bangun datar:  248.36\n"
          ]
        }
      ],
      "source": [
        "n = int(input(\"Banyaknya bangun datar:\"))\n",
        "\n",
        "i=1 #inisiasi nilai awal i untuk iterasi pertama di while loop\n",
        "while i <= n: #looping selama nilai i belum lebih besar dari n\n",
        "  bentuk = input(f\"Pilih Bangun Datar ke-{i} (persegi, persegi panjang, segitiga, lingkaran, trapesium): \")\n",
        "  #jika bentuk ada di pilihan, nilai i bertambah 1, artinya kuota n bangun datar sudah terpakai 1\n",
        "  if bentuk == 'persegi':\n",
        "    i+=1\n",
        "    bentuk = Persegi()\n",
        "    bentuk.HitungLuas()\n",
        "  elif bentuk == 'persegi panjang':\n",
        "    i+=1\n",
        "    bentuk = PersegiPanjang()\n",
        "    bentuk.HitungLuas()\n",
        "  elif bentuk == 'segitiga':\n",
        "    i+=1\n",
        "    bentuk = Segitiga()\n",
        "    bentuk.HitungLuas()\n",
        "  elif bentuk == 'lingkaran':\n",
        "    i+=1\n",
        "    bentuk = Lingkaran()\n",
        "    bentuk.HitungLuas()\n",
        "  elif bentuk == 'trapesium':\n",
        "    i+=1\n",
        "    bentuk = Trapesium()\n",
        "    bentuk.HitungLuas()\n",
        "  else:\n",
        "    #bentuk tidak ada di pilihan, kuota bangun datar masih sama dengan iterasi sebelumnya\n",
        "    print('!Bangun datar tidak masuk dalam pilihan, pilih ulang!')\n",
        "\n",
        "\n",
        "print(\"Rekap luas bangun datar: \", BangunDatar.rekap_luas)\n",
        "print(\"Rekap luas bangun datar setelah sorting: \", sorting(BangunDatar.rekap_luas))\n",
        "print(jumlah(BangunDatar.rekap_luas))"
      ]
    }
  ],
  "metadata": {
    "colab": {
      "provenance": []
    },
    "kernelspec": {
      "display_name": "Python 3",
      "name": "python3"
    },
    "language_info": {
      "name": "python"
    }
  },
  "nbformat": 4,
  "nbformat_minor": 0
}
